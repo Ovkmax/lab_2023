{
 "cells": [
  {
   "cell_type": "code",
   "execution_count": null,
   "id": "13e62268",
   "metadata": {
    "code_folding": [
     4
    ]
   },
   "outputs": [],
   "source": [
    "import pygame\n",
    "pygame.init()\n",
    "\n",
    "\n",
    "def draw_ellipse_angle(surface, color, rect, angle, width=0):\n",
    "    target_rect = pygame.Rect(rect)\n",
    "    shape_surf = pygame.Surface(target_rect.size, pygame.SRCALPHA)\n",
    "    pygame.draw.ellipse(shape_surf, color, (0, 0, *target_rect.size), width)\n",
    "    rotated_surf = pygame.transform.rotate(shape_surf, angle)\n",
    "    surface.blit(rotated_surf, rotated_surf.get_rect(\n",
    "        center=target_rect.center))\n",
    "\n",
    "\n",
    "def draw_cat(screen, x, y, scale=1, mirror_flag=0):\n",
    "    '''\n",
    "    Рисует всего кота\n",
    "    screen - рабочая поверхность окна дисплея\n",
    "    x, y - координаты верхнего левого угла прямоугольника, в который вписан кот\n",
    "    scale - коэффициент маштабирования\n",
    "    mirror_flag - если 0, то отзеркаливать не надо, если 1, то зеркалим\n",
    "    '''\n",
    "    cat_color = (189, 117, 68)\n",
    "    width = 400\n",
    "    height = 167\n",
    "    surf = pygame.Surface((width, height))\n",
    "    rect = surf.get_rect(topleft=(x, y))\n",
    "    head_x, head_y = 60, 60 \n",
    "    head_r = 50\n",
    "    body_x, body_y = 60, 10\n",
    "    body_rect = ((body_x, body_y), (223, 130))  # размеры тела кота\n",
    "    \n",
    "    pygame.draw.circle(surf, cat_color, (head_x, head_y), head_r, 0)  # рисует голову кота\n",
    "    pygame.draw.ellipse(surf, cat_color, body_rect, 0)  # рисует тело кота\n",
    "    \n",
    "    if scale == 1 and mirror_flag == 0: # ничего не делаем с котом\n",
    "        screen.blit(surf, rect)\n",
    "    elif scale != 1 and mirror_flag == 0: # маштабируем кота \n",
    "        scale_surf = pygame.transform.scale(surf, (width * scale, height * scale))\n",
    "        screen.blit(scale_surf, rect)\n",
    "    elif scale == 1 and mirror_flag == 1: # зеркалим кота\n",
    "        mirror_surf = pygame.transform.flip(surf, False, True)\n",
    "        screen.blit(mirror_surf, rect)\n",
    "    elif scale != 1 and mirror_flag == 1: # и маштабируем и зеркалим кота\n",
    "        mirror_surf = pygame.transform.flip(surf, True, False)\n",
    "        scale_surf = pygame.transform.scale(mirror_surf, (width * scale, height * scale))\n",
    "        screen.blit(scale_surf, rect)\n",
    "        \n",
    "\n",
    "FPS = 30\n",
    "screen_width = 790\n",
    "screen_height = 1120\n",
    "screen = pygame.display.set_mode((screen_width, screen_height))\n",
    "WHITE = (255, 255, 255)\n",
    "screen.fill(WHITE)\n",
    "\n",
    "draw_cat(screen, 380, 540, 1)\n",
    "draw_cat(screen, 200, 200, 0.5)\n",
    "draw_cat(screen, 300, 300, 0.5, 1)\n",
    "\n",
    "pygame.display.update()\n",
    "clock = pygame.time.Clock()\n",
    "flruning = True\n",
    "\n",
    "while flruning:\n",
    "    clock.tick(FPS)\n",
    "    for event in pygame.event.get():\n",
    "        if event.type == pygame.QUIT:\n",
    "            flruning = False\n",
    "\n",
    "pygame.quit()"
   ]
  },
  {
   "cell_type": "code",
   "execution_count": null,
   "id": "3c0eb364",
   "metadata": {},
   "outputs": [],
   "source": []
  },
  {
   "cell_type": "code",
   "execution_count": null,
   "id": "ee370bc8",
   "metadata": {},
   "outputs": [],
   "source": []
  }
 ],
 "metadata": {
  "kernelspec": {
   "display_name": "Python 3 (ipykernel)",
   "language": "python",
   "name": "python3"
  },
  "language_info": {
   "codemirror_mode": {
    "name": "ipython",
    "version": 3
   },
   "file_extension": ".py",
   "mimetype": "text/x-python",
   "name": "python",
   "nbconvert_exporter": "python",
   "pygments_lexer": "ipython3",
   "version": "3.10.8"
  }
 },
 "nbformat": 4,
 "nbformat_minor": 5
}
