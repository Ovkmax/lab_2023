{
 "cells": [
  {
   "cell_type": "code",
   "execution_count": 20,
   "id": "a2b89f7b",
   "metadata": {
    "code_folding": []
   },
   "outputs": [
    {
     "name": "stdout",
     "output_type": "stream",
     "text": [
      "Типа рисую домик...\n",
      " 300 400 200 300\n",
      "Типа рисую основание...\n",
      " 300 400 200 15.0\n",
      "Типа рисую стены...\n",
      " 300 385.0 180.0 150.0\n",
      "Типа рисую крышу...\n",
      " 300 235.0 200 135.0\n"
     ]
    }
   ],
   "source": [
    "def main():\n",
    "    x, y = 300, 400\n",
    "    wight, heigth = 200, 300\n",
    "    draw_house(x, y, wight, heigth)\n",
    "\n",
    "\n",
    "def draw_house(x, y, wight, heigth):\n",
    "    '''\n",
    "    Функция, которая рисует домик шириной wight и высотой heigth с опороной точкой (x, y)\n",
    "    x: координата x середины домика\n",
    "    y: координата y низа фундамента\n",
    "    wight: полная ширина домика\n",
    "    heigth: полная высота домика\n",
    "    '''\n",
    "    print('Типа рисую домик...\\n', x, y, wight, heigth)\n",
    "    foundation_heigth = 0.05 * heigth\n",
    "    walls_wight = 0.9 * wight\n",
    "    walls_heigth = 0.5 * heigth\n",
    "    roof_heigth = heigth - foundation_heigth - walls_heigth\n",
    "\n",
    "    draw_house_foundation(x, y, wight, foundation_heigth)\n",
    "    draw_house_walls(x, y - foundation_heigth, walls_wight, walls_heigth)\n",
    "    draw_house_roof(x, y - foundation_heigth -\n",
    "                    walls_heigth, wight, roof_heigth)\n",
    "\n",
    "\n",
    "def draw_house_foundation(x, y, wight, heigth):\n",
    "    print('Типа рисую основание...\\n', x, y, wight, heigth)\n",
    "    pass\n",
    "\n",
    "\n",
    "def draw_house_walls(x, y, wight, heigth):\n",
    "    print('Типа рисую стены...\\n', x, y, wight, heigth)\n",
    "    pass\n",
    "\n",
    "def draw_house_roof(x, y, wight, heigth):\n",
    "    print('Типа рисую крышу...\\n', x, y, wight, heigth)\n",
    "    pass\n",
    "\n",
    "\n",
    "main()"
   ]
  },
  {
   "cell_type": "code",
   "execution_count": null,
   "id": "534b5476",
   "metadata": {},
   "outputs": [],
   "source": []
  },
  {
   "cell_type": "code",
   "execution_count": null,
   "id": "e03bcc5d",
   "metadata": {},
   "outputs": [],
   "source": []
  }
 ],
 "metadata": {
  "kernelspec": {
   "display_name": "Python 3 (ipykernel)",
   "language": "python",
   "name": "python3"
  },
  "language_info": {
   "codemirror_mode": {
    "name": "ipython",
    "version": 3
   },
   "file_extension": ".py",
   "mimetype": "text/x-python",
   "name": "python",
   "nbconvert_exporter": "python",
   "pygments_lexer": "ipython3",
   "version": "3.10.8"
  }
 },
 "nbformat": 4,
 "nbformat_minor": 5
}
