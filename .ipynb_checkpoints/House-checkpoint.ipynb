{
 "cells": [
  {
   "cell_type": "code",
   "execution_count": 11,
   "id": "a2b89f7b",
   "metadata": {},
   "outputs": [
    {
     "name": "stdout",
     "output_type": "stream",
     "text": [
      "Типа рисую домик...\n",
      " 100 100 200 200\n"
     ]
    }
   ],
   "source": [
    "def draw_house(x, y, wight, heigth):\n",
    "    '''\n",
    "    Функция, которая рисует домик шириной wight и высотой heigth с опороной точкой (x, y)\n",
    "    x: координата x середины домика\n",
    "    y: координата y низа фундамента\n",
    "    wight: полная ширина домика\n",
    "    heigth: полная высота домика\n",
    "    '''\n",
    "    print('Типа рисую домик...\\n', x, y, wight, heigth)\n",
    "    pass  # do nothing\n",
    "\n",
    "\n",
    "x, y = 100, 100\n",
    "wight, heigth = 200, 200\n",
    "\n",
    "draw_house(x, y, wight, heigth)"
   ]
  },
  {
   "cell_type": "code",
   "execution_count": null,
   "id": "6fff521b",
   "metadata": {},
   "outputs": [],
   "source": []
  }
 ],
 "metadata": {
  "kernelspec": {
   "display_name": "Python 3 (ipykernel)",
   "language": "python",
   "name": "python3"
  },
  "language_info": {
   "codemirror_mode": {
    "name": "ipython",
    "version": 3
   },
   "file_extension": ".py",
   "mimetype": "text/x-python",
   "name": "python",
   "nbconvert_exporter": "python",
   "pygments_lexer": "ipython3",
   "version": "3.10.8"
  }
 },
 "nbformat": 4,
 "nbformat_minor": 5
}
